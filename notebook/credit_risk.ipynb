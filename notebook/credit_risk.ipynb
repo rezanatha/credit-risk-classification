{
 "cells": [
  {
   "cell_type": "markdown",
   "id": "56b9bfb2-417f-4b7e-9c1a-54fcfe73bd1f",
   "metadata": {},
   "source": [
    "# Credit Risk Classification\n",
    "Classify whether someone is going to default or not in the future based on personal data and loan data"
   ]
  },
  {
   "cell_type": "code",
   "execution_count": 1,
   "id": "101e2b6b-9aef-4e73-b6f9-5fab7fc7f13d",
   "metadata": {},
   "outputs": [],
   "source": [
    "import numpy as np\n",
    "import pandas as pd\n",
    "import matplotlib.pyplot as plt\n",
    "from math import log, ceil \n",
    "import seaborn as sns\n",
    "\n",
    "from sklearn.model_selection import train_test_split, GridSearchCV\n",
    "from sklearn.linear_model import LogisticRegression\n",
    "from sklearn.ensemble import RandomForestClassifier\n",
    "from sklearn.feature_selection import SelectFromModel\n",
    "from xgboost import XGBClassifier\n",
    "\n",
    "import warnings\n",
    "warnings.filterwarnings('ignore')"
   ]
  },
  {
   "cell_type": "markdown",
   "id": "c2db8ad5-aaab-43eb-a55c-c4a7dc1a122b",
   "metadata": {},
   "source": [
    "# Import data"
   ]
  },
  {
   "cell_type": "code",
   "execution_count": 2,
   "id": "6bc4525c-a755-4781-bf7b-5a1812413326",
   "metadata": {},
   "outputs": [],
   "source": [
    "data = pd.read_csv('credit_risk_dataset.csv')"
   ]
  },
  {
   "cell_type": "code",
   "execution_count": 3,
   "id": "dec0eb3a-cbaf-49fa-9113-8956c72ef081",
   "metadata": {},
   "outputs": [
    {
     "data": {
      "text/html": [
       "<div>\n",
       "<style scoped>\n",
       "    .dataframe tbody tr th:only-of-type {\n",
       "        vertical-align: middle;\n",
       "    }\n",
       "\n",
       "    .dataframe tbody tr th {\n",
       "        vertical-align: top;\n",
       "    }\n",
       "\n",
       "    .dataframe thead th {\n",
       "        text-align: right;\n",
       "    }\n",
       "</style>\n",
       "<table border=\"1\" class=\"dataframe\">\n",
       "  <thead>\n",
       "    <tr style=\"text-align: right;\">\n",
       "      <th></th>\n",
       "      <th>person_age</th>\n",
       "      <th>person_income</th>\n",
       "      <th>person_home_ownership</th>\n",
       "      <th>person_emp_length</th>\n",
       "      <th>loan_intent</th>\n",
       "      <th>loan_grade</th>\n",
       "      <th>loan_amnt</th>\n",
       "      <th>loan_int_rate</th>\n",
       "      <th>loan_status</th>\n",
       "      <th>loan_percent_income</th>\n",
       "      <th>cb_person_default_on_file</th>\n",
       "      <th>cb_person_cred_hist_length</th>\n",
       "    </tr>\n",
       "  </thead>\n",
       "  <tbody>\n",
       "    <tr>\n",
       "      <th>0</th>\n",
       "      <td>22</td>\n",
       "      <td>59000</td>\n",
       "      <td>RENT</td>\n",
       "      <td>123.0</td>\n",
       "      <td>PERSONAL</td>\n",
       "      <td>D</td>\n",
       "      <td>35000</td>\n",
       "      <td>16.02</td>\n",
       "      <td>1</td>\n",
       "      <td>0.59</td>\n",
       "      <td>Y</td>\n",
       "      <td>3</td>\n",
       "    </tr>\n",
       "    <tr>\n",
       "      <th>1</th>\n",
       "      <td>21</td>\n",
       "      <td>9600</td>\n",
       "      <td>OWN</td>\n",
       "      <td>5.0</td>\n",
       "      <td>EDUCATION</td>\n",
       "      <td>B</td>\n",
       "      <td>1000</td>\n",
       "      <td>11.14</td>\n",
       "      <td>0</td>\n",
       "      <td>0.10</td>\n",
       "      <td>N</td>\n",
       "      <td>2</td>\n",
       "    </tr>\n",
       "    <tr>\n",
       "      <th>2</th>\n",
       "      <td>25</td>\n",
       "      <td>9600</td>\n",
       "      <td>MORTGAGE</td>\n",
       "      <td>1.0</td>\n",
       "      <td>MEDICAL</td>\n",
       "      <td>C</td>\n",
       "      <td>5500</td>\n",
       "      <td>12.87</td>\n",
       "      <td>1</td>\n",
       "      <td>0.57</td>\n",
       "      <td>N</td>\n",
       "      <td>3</td>\n",
       "    </tr>\n",
       "    <tr>\n",
       "      <th>3</th>\n",
       "      <td>23</td>\n",
       "      <td>65500</td>\n",
       "      <td>RENT</td>\n",
       "      <td>4.0</td>\n",
       "      <td>MEDICAL</td>\n",
       "      <td>C</td>\n",
       "      <td>35000</td>\n",
       "      <td>15.23</td>\n",
       "      <td>1</td>\n",
       "      <td>0.53</td>\n",
       "      <td>N</td>\n",
       "      <td>2</td>\n",
       "    </tr>\n",
       "    <tr>\n",
       "      <th>4</th>\n",
       "      <td>24</td>\n",
       "      <td>54400</td>\n",
       "      <td>RENT</td>\n",
       "      <td>8.0</td>\n",
       "      <td>MEDICAL</td>\n",
       "      <td>C</td>\n",
       "      <td>35000</td>\n",
       "      <td>14.27</td>\n",
       "      <td>1</td>\n",
       "      <td>0.55</td>\n",
       "      <td>Y</td>\n",
       "      <td>4</td>\n",
       "    </tr>\n",
       "    <tr>\n",
       "      <th>...</th>\n",
       "      <td>...</td>\n",
       "      <td>...</td>\n",
       "      <td>...</td>\n",
       "      <td>...</td>\n",
       "      <td>...</td>\n",
       "      <td>...</td>\n",
       "      <td>...</td>\n",
       "      <td>...</td>\n",
       "      <td>...</td>\n",
       "      <td>...</td>\n",
       "      <td>...</td>\n",
       "      <td>...</td>\n",
       "    </tr>\n",
       "    <tr>\n",
       "      <th>32576</th>\n",
       "      <td>57</td>\n",
       "      <td>53000</td>\n",
       "      <td>MORTGAGE</td>\n",
       "      <td>1.0</td>\n",
       "      <td>PERSONAL</td>\n",
       "      <td>C</td>\n",
       "      <td>5800</td>\n",
       "      <td>13.16</td>\n",
       "      <td>0</td>\n",
       "      <td>0.11</td>\n",
       "      <td>N</td>\n",
       "      <td>30</td>\n",
       "    </tr>\n",
       "    <tr>\n",
       "      <th>32577</th>\n",
       "      <td>54</td>\n",
       "      <td>120000</td>\n",
       "      <td>MORTGAGE</td>\n",
       "      <td>4.0</td>\n",
       "      <td>PERSONAL</td>\n",
       "      <td>A</td>\n",
       "      <td>17625</td>\n",
       "      <td>7.49</td>\n",
       "      <td>0</td>\n",
       "      <td>0.15</td>\n",
       "      <td>N</td>\n",
       "      <td>19</td>\n",
       "    </tr>\n",
       "    <tr>\n",
       "      <th>32578</th>\n",
       "      <td>65</td>\n",
       "      <td>76000</td>\n",
       "      <td>RENT</td>\n",
       "      <td>3.0</td>\n",
       "      <td>HOMEIMPROVEMENT</td>\n",
       "      <td>B</td>\n",
       "      <td>35000</td>\n",
       "      <td>10.99</td>\n",
       "      <td>1</td>\n",
       "      <td>0.46</td>\n",
       "      <td>N</td>\n",
       "      <td>28</td>\n",
       "    </tr>\n",
       "    <tr>\n",
       "      <th>32579</th>\n",
       "      <td>56</td>\n",
       "      <td>150000</td>\n",
       "      <td>MORTGAGE</td>\n",
       "      <td>5.0</td>\n",
       "      <td>PERSONAL</td>\n",
       "      <td>B</td>\n",
       "      <td>15000</td>\n",
       "      <td>11.48</td>\n",
       "      <td>0</td>\n",
       "      <td>0.10</td>\n",
       "      <td>N</td>\n",
       "      <td>26</td>\n",
       "    </tr>\n",
       "    <tr>\n",
       "      <th>32580</th>\n",
       "      <td>66</td>\n",
       "      <td>42000</td>\n",
       "      <td>RENT</td>\n",
       "      <td>2.0</td>\n",
       "      <td>MEDICAL</td>\n",
       "      <td>B</td>\n",
       "      <td>6475</td>\n",
       "      <td>9.99</td>\n",
       "      <td>0</td>\n",
       "      <td>0.15</td>\n",
       "      <td>N</td>\n",
       "      <td>30</td>\n",
       "    </tr>\n",
       "  </tbody>\n",
       "</table>\n",
       "<p>32581 rows × 12 columns</p>\n",
       "</div>"
      ],
      "text/plain": [
       "       person_age  person_income person_home_ownership  person_emp_length  \\\n",
       "0              22          59000                  RENT              123.0   \n",
       "1              21           9600                   OWN                5.0   \n",
       "2              25           9600              MORTGAGE                1.0   \n",
       "3              23          65500                  RENT                4.0   \n",
       "4              24          54400                  RENT                8.0   \n",
       "...           ...            ...                   ...                ...   \n",
       "32576          57          53000              MORTGAGE                1.0   \n",
       "32577          54         120000              MORTGAGE                4.0   \n",
       "32578          65          76000                  RENT                3.0   \n",
       "32579          56         150000              MORTGAGE                5.0   \n",
       "32580          66          42000                  RENT                2.0   \n",
       "\n",
       "           loan_intent loan_grade  loan_amnt  loan_int_rate  loan_status  \\\n",
       "0             PERSONAL          D      35000          16.02            1   \n",
       "1            EDUCATION          B       1000          11.14            0   \n",
       "2              MEDICAL          C       5500          12.87            1   \n",
       "3              MEDICAL          C      35000          15.23            1   \n",
       "4              MEDICAL          C      35000          14.27            1   \n",
       "...                ...        ...        ...            ...          ...   \n",
       "32576         PERSONAL          C       5800          13.16            0   \n",
       "32577         PERSONAL          A      17625           7.49            0   \n",
       "32578  HOMEIMPROVEMENT          B      35000          10.99            1   \n",
       "32579         PERSONAL          B      15000          11.48            0   \n",
       "32580          MEDICAL          B       6475           9.99            0   \n",
       "\n",
       "       loan_percent_income cb_person_default_on_file  \\\n",
       "0                     0.59                         Y   \n",
       "1                     0.10                         N   \n",
       "2                     0.57                         N   \n",
       "3                     0.53                         N   \n",
       "4                     0.55                         Y   \n",
       "...                    ...                       ...   \n",
       "32576                 0.11                         N   \n",
       "32577                 0.15                         N   \n",
       "32578                 0.46                         N   \n",
       "32579                 0.10                         N   \n",
       "32580                 0.15                         N   \n",
       "\n",
       "       cb_person_cred_hist_length  \n",
       "0                               3  \n",
       "1                               2  \n",
       "2                               3  \n",
       "3                               2  \n",
       "4                               4  \n",
       "...                           ...  \n",
       "32576                          30  \n",
       "32577                          19  \n",
       "32578                          28  \n",
       "32579                          26  \n",
       "32580                          30  \n",
       "\n",
       "[32581 rows x 12 columns]"
      ]
     },
     "execution_count": 3,
     "metadata": {},
     "output_type": "execute_result"
    }
   ],
   "source": [
    "data"
   ]
  },
  {
   "cell_type": "code",
   "execution_count": 63,
   "id": "f883cd5a-512f-459e-bad6-222051685a9e",
   "metadata": {},
   "outputs": [
    {
     "data": {
      "text/plain": [
       "EDUCATION            6451\n",
       "MEDICAL              6065\n",
       "VENTURE              5716\n",
       "PERSONAL             5517\n",
       "DEBTCONSOLIDATION    5212\n",
       "HOMEIMPROVEMENT      3605\n",
       "Name: loan_intent, dtype: int64"
      ]
     },
     "execution_count": 63,
     "metadata": {},
     "output_type": "execute_result"
    }
   ],
   "source": [
    "data['loan_intent'].value_counts()"
   ]
  },
  {
   "cell_type": "code",
   "execution_count": 4,
   "id": "16e7d2c0-8422-4e6d-897d-2f142cf83ac6",
   "metadata": {},
   "outputs": [
    {
     "name": "stdout",
     "output_type": "stream",
     "text": [
      "<class 'pandas.core.frame.DataFrame'>\n",
      "RangeIndex: 32581 entries, 0 to 32580\n",
      "Data columns (total 12 columns):\n",
      " #   Column                      Non-Null Count  Dtype  \n",
      "---  ------                      --------------  -----  \n",
      " 0   person_age                  32581 non-null  int64  \n",
      " 1   person_income               32581 non-null  int64  \n",
      " 2   person_home_ownership       32581 non-null  object \n",
      " 3   person_emp_length           31686 non-null  float64\n",
      " 4   loan_intent                 32581 non-null  object \n",
      " 5   loan_grade                  32581 non-null  object \n",
      " 6   loan_amnt                   32581 non-null  int64  \n",
      " 7   loan_int_rate               29465 non-null  float64\n",
      " 8   loan_status                 32581 non-null  int64  \n",
      " 9   loan_percent_income         32581 non-null  float64\n",
      " 10  cb_person_default_on_file   32581 non-null  object \n",
      " 11  cb_person_cred_hist_length  32581 non-null  int64  \n",
      "dtypes: float64(3), int64(5), object(4)\n",
      "memory usage: 3.0+ MB\n"
     ]
    }
   ],
   "source": [
    "data.info()"
   ]
  },
  {
   "cell_type": "markdown",
   "id": "cb06808c-e7fc-4105-b3c4-f71dcf7f14a7",
   "metadata": {},
   "source": [
    "# Metadata\n",
    "To simplify data processing, below are defined column names grouped to their respective data types"
   ]
  },
  {
   "cell_type": "code",
   "execution_count": 5,
   "id": "12c7dc27-52c9-4ad1-a5fb-6584db7fd324",
   "metadata": {},
   "outputs": [],
   "source": [
    "target = 'loan_status'"
   ]
  },
  {
   "cell_type": "code",
   "execution_count": 6,
   "id": "f4eae5e3-d725-4884-b94b-90ca38f07083",
   "metadata": {},
   "outputs": [],
   "source": [
    "drop_col = ['loan_percent_income']"
   ]
  },
  {
   "cell_type": "markdown",
   "id": "e3c8bf05-3585-4c97-beb3-1877b3dc70e0",
   "metadata": {},
   "source": [
    "Note: We don't use 'percent_income' as a feature as the column is derived from two other features and is more complicated to reason by the end users. We want to keep things simple."
   ]
  },
  {
   "cell_type": "code",
   "execution_count": 7,
   "id": "d6a5d353-5c38-4d36-b147-5712f72aa2ec",
   "metadata": {},
   "outputs": [],
   "source": [
    "num = ['person_age', 'person_income', 'person_emp_length', 'loan_amnt', 'loan_int_rate', 'cb_person_cred_hist_length']\n",
    "cat_ord = ['loan_grade']\n",
    "cat = ['person_home_ownership', 'loan_intent', 'cb_person_default_on_file']"
   ]
  },
  {
   "cell_type": "markdown",
   "id": "2da69950-9f96-4242-b0b4-2b3ec8a8c884",
   "metadata": {},
   "source": [
    "# Drop unused column"
   ]
  },
  {
   "cell_type": "code",
   "execution_count": 8,
   "id": "189524d3-06e4-4c85-8d5d-3a84d0f94ba0",
   "metadata": {},
   "outputs": [],
   "source": [
    "data.drop(drop_col, axis=1, inplace=True)"
   ]
  },
  {
   "cell_type": "markdown",
   "id": "a0e4549b-802a-4697-92cf-6e0414b01875",
   "metadata": {},
   "source": [
    "# Handle outliers\n",
    "See if there's any unreasonable number within the raw data and decide what to do with it"
   ]
  },
  {
   "cell_type": "code",
   "execution_count": 9,
   "id": "71d59c35-72ff-42a5-aecb-2f7905bd13a6",
   "metadata": {},
   "outputs": [
    {
     "data": {
      "text/html": [
       "<div>\n",
       "<style scoped>\n",
       "    .dataframe tbody tr th:only-of-type {\n",
       "        vertical-align: middle;\n",
       "    }\n",
       "\n",
       "    .dataframe tbody tr th {\n",
       "        vertical-align: top;\n",
       "    }\n",
       "\n",
       "    .dataframe thead th {\n",
       "        text-align: right;\n",
       "    }\n",
       "</style>\n",
       "<table border=\"1\" class=\"dataframe\">\n",
       "  <thead>\n",
       "    <tr style=\"text-align: right;\">\n",
       "      <th></th>\n",
       "      <th>count</th>\n",
       "      <th>mean</th>\n",
       "      <th>std</th>\n",
       "      <th>min</th>\n",
       "      <th>25%</th>\n",
       "      <th>50%</th>\n",
       "      <th>75%</th>\n",
       "      <th>max</th>\n",
       "    </tr>\n",
       "  </thead>\n",
       "  <tbody>\n",
       "    <tr>\n",
       "      <th>person_age</th>\n",
       "      <td>32581.0</td>\n",
       "      <td>27.734600</td>\n",
       "      <td>6.348078</td>\n",
       "      <td>20.00</td>\n",
       "      <td>23.0</td>\n",
       "      <td>26.00</td>\n",
       "      <td>30.00</td>\n",
       "      <td>144.00</td>\n",
       "    </tr>\n",
       "    <tr>\n",
       "      <th>person_income</th>\n",
       "      <td>32581.0</td>\n",
       "      <td>66074.848470</td>\n",
       "      <td>61983.119168</td>\n",
       "      <td>4000.00</td>\n",
       "      <td>38500.0</td>\n",
       "      <td>55000.00</td>\n",
       "      <td>79200.00</td>\n",
       "      <td>6000000.00</td>\n",
       "    </tr>\n",
       "    <tr>\n",
       "      <th>person_emp_length</th>\n",
       "      <td>31686.0</td>\n",
       "      <td>4.789686</td>\n",
       "      <td>4.142630</td>\n",
       "      <td>0.00</td>\n",
       "      <td>2.0</td>\n",
       "      <td>4.00</td>\n",
       "      <td>7.00</td>\n",
       "      <td>123.00</td>\n",
       "    </tr>\n",
       "    <tr>\n",
       "      <th>loan_amnt</th>\n",
       "      <td>32581.0</td>\n",
       "      <td>9589.371106</td>\n",
       "      <td>6322.086646</td>\n",
       "      <td>500.00</td>\n",
       "      <td>5000.0</td>\n",
       "      <td>8000.00</td>\n",
       "      <td>12200.00</td>\n",
       "      <td>35000.00</td>\n",
       "    </tr>\n",
       "    <tr>\n",
       "      <th>loan_int_rate</th>\n",
       "      <td>29465.0</td>\n",
       "      <td>11.011695</td>\n",
       "      <td>3.240459</td>\n",
       "      <td>5.42</td>\n",
       "      <td>7.9</td>\n",
       "      <td>10.99</td>\n",
       "      <td>13.47</td>\n",
       "      <td>23.22</td>\n",
       "    </tr>\n",
       "    <tr>\n",
       "      <th>loan_status</th>\n",
       "      <td>32581.0</td>\n",
       "      <td>0.218164</td>\n",
       "      <td>0.413006</td>\n",
       "      <td>0.00</td>\n",
       "      <td>0.0</td>\n",
       "      <td>0.00</td>\n",
       "      <td>0.00</td>\n",
       "      <td>1.00</td>\n",
       "    </tr>\n",
       "    <tr>\n",
       "      <th>cb_person_cred_hist_length</th>\n",
       "      <td>32581.0</td>\n",
       "      <td>5.804211</td>\n",
       "      <td>4.055001</td>\n",
       "      <td>2.00</td>\n",
       "      <td>3.0</td>\n",
       "      <td>4.00</td>\n",
       "      <td>8.00</td>\n",
       "      <td>30.00</td>\n",
       "    </tr>\n",
       "  </tbody>\n",
       "</table>\n",
       "</div>"
      ],
      "text/plain": [
       "                              count          mean           std      min  \\\n",
       "person_age                  32581.0     27.734600      6.348078    20.00   \n",
       "person_income               32581.0  66074.848470  61983.119168  4000.00   \n",
       "person_emp_length           31686.0      4.789686      4.142630     0.00   \n",
       "loan_amnt                   32581.0   9589.371106   6322.086646   500.00   \n",
       "loan_int_rate               29465.0     11.011695      3.240459     5.42   \n",
       "loan_status                 32581.0      0.218164      0.413006     0.00   \n",
       "cb_person_cred_hist_length  32581.0      5.804211      4.055001     2.00   \n",
       "\n",
       "                                25%       50%       75%         max  \n",
       "person_age                     23.0     26.00     30.00      144.00  \n",
       "person_income               38500.0  55000.00  79200.00  6000000.00  \n",
       "person_emp_length               2.0      4.00      7.00      123.00  \n",
       "loan_amnt                    5000.0   8000.00  12200.00    35000.00  \n",
       "loan_int_rate                   7.9     10.99     13.47       23.22  \n",
       "loan_status                     0.0      0.00      0.00        1.00  \n",
       "cb_person_cred_hist_length      3.0      4.00      8.00       30.00  "
      ]
     },
     "execution_count": 9,
     "metadata": {},
     "output_type": "execute_result"
    }
   ],
   "source": [
    "data.describe(include='number').T"
   ]
  },
  {
   "cell_type": "markdown",
   "id": "acf55c3b-1c8e-44ee-8474-3f3cf0aa7dc4",
   "metadata": {},
   "source": [
    "From the table above, we found maximum number of \"person_emp_length\" and \"person_age\" is unreasonable. Up until 2021, there is no way human can live past 123 years old."
   ]
  },
  {
   "cell_type": "code",
   "execution_count": 10,
   "id": "44f7d1a8-5e1a-4c9b-97cc-91871e463532",
   "metadata": {},
   "outputs": [
    {
     "data": {
      "text/plain": [
       "Text(0.5, 1.0, 'person_age histogram')"
      ]
     },
     "execution_count": 10,
     "metadata": {},
     "output_type": "execute_result"
    },
    {
     "data": {
      "image/png": "[encoded data removed]",
      "text/plain": [
       "<Figure size 432x288 with 1 Axes>"
      ]
     },
     "metadata": {
      "needs_background": "light"
     },
     "output_type": "display_data"
    }
   ],
   "source": [
    "plt.hist(data['person_age'], bins=50)\n",
    "plt.title(\"person_age histogram\")"
   ]
  },
  {
   "cell_type": "markdown",
   "id": "f6f64bb0-eb58-4e17-82aa-f53aa7e7cb3b",
   "metadata": {},
   "source": [
    "We filter \"person_age\" to only below 73 years, which is the average human life expectancy according to the United Nations, 2019"
   ]
  },
  {
   "cell_type": "code",
   "execution_count": 11,
   "id": "0368294d-ca9c-4854-92bd-ab998127923c",
   "metadata": {},
   "outputs": [],
   "source": [
    "data = data[data['person_age'] < 73]"
   ]
  },
  {
   "cell_type": "code",
   "execution_count": 12,
   "id": "9fbd4997-078b-464b-9b19-f5ba69942c62",
   "metadata": {},
   "outputs": [
    {
     "data": {
      "text/plain": [
       "Text(0.5, 1.0, 'person_emp_length histogram')"
      ]
     },
     "execution_count": 12,
     "metadata": {},
     "output_type": "execute_result"
    },
    {
     "data": {
      "image/png": "[encoded data removed]",
      "text/plain": [
       "<Figure size 432x288 with 1 Axes>"
      ]
     },
     "metadata": {
      "needs_background": "light"
     },
     "output_type": "display_data"
    }
   ],
   "source": [
    "plt.hist(data['person_emp_length'], bins=50)\n",
    "plt.title(\"person_emp_length histogram\")"
   ]
  },
  {
   "cell_type": "markdown",
   "id": "65229453-bcdc-4353-8a5c-f7cd1595be7e",
   "metadata": {},
   "source": [
    "We filter \"person_age\" to only below 45 years"
   ]
  },
  {
   "cell_type": "code",
   "execution_count": 13,
   "id": "9228db2a-6c99-4069-ba4b-21e32966a998",
   "metadata": {},
   "outputs": [],
   "source": [
    "data = data[(pd.isnull(data[['person_emp_length']]).any(axis=1)) | (data['person_emp_length'] < 45)]"
   ]
  },
  {
   "cell_type": "markdown",
   "id": "5e2946ff-d43c-4f3d-994d-800222841882",
   "metadata": {},
   "source": [
    "Describe the data again to see if the filters are working"
   ]
  },
  {
   "cell_type": "code",
   "execution_count": 14,
   "id": "3897b2e5-7a04-40f8-8947-8644489c32ff",
   "metadata": {},
   "outputs": [
    {
     "data": {
      "text/html": [
       "<div>\n",
       "<style scoped>\n",
       "    .dataframe tbody tr th:only-of-type {\n",
       "        vertical-align: middle;\n",
       "    }\n",
       "\n",
       "    .dataframe tbody tr th {\n",
       "        vertical-align: top;\n",
       "    }\n",
       "\n",
       "    .dataframe thead th {\n",
       "        text-align: right;\n",
       "    }\n",
       "</style>\n",
       "<table border=\"1\" class=\"dataframe\">\n",
       "  <thead>\n",
       "    <tr style=\"text-align: right;\">\n",
       "      <th></th>\n",
       "      <th>count</th>\n",
       "      <th>mean</th>\n",
       "      <th>std</th>\n",
       "      <th>min</th>\n",
       "      <th>25%</th>\n",
       "      <th>50%</th>\n",
       "      <th>75%</th>\n",
       "      <th>max</th>\n",
       "    </tr>\n",
       "  </thead>\n",
       "  <tbody>\n",
       "    <tr>\n",
       "      <th>person_age</th>\n",
       "      <td>32566.0</td>\n",
       "      <td>27.705859</td>\n",
       "      <td>6.152800</td>\n",
       "      <td>20.00</td>\n",
       "      <td>23.0</td>\n",
       "      <td>26.00</td>\n",
       "      <td>30.00</td>\n",
       "      <td>70.00</td>\n",
       "    </tr>\n",
       "    <tr>\n",
       "      <th>person_income</th>\n",
       "      <td>32566.0</td>\n",
       "      <td>65880.476386</td>\n",
       "      <td>52537.116859</td>\n",
       "      <td>4000.00</td>\n",
       "      <td>38500.0</td>\n",
       "      <td>55000.00</td>\n",
       "      <td>79200.00</td>\n",
       "      <td>2039784.00</td>\n",
       "    </tr>\n",
       "    <tr>\n",
       "      <th>person_emp_length</th>\n",
       "      <td>31671.0</td>\n",
       "      <td>4.780714</td>\n",
       "      <td>4.028718</td>\n",
       "      <td>0.00</td>\n",
       "      <td>2.0</td>\n",
       "      <td>4.00</td>\n",
       "      <td>7.00</td>\n",
       "      <td>38.00</td>\n",
       "    </tr>\n",
       "    <tr>\n",
       "      <th>loan_amnt</th>\n",
       "      <td>32566.0</td>\n",
       "      <td>9588.656881</td>\n",
       "      <td>6320.600578</td>\n",
       "      <td>500.00</td>\n",
       "      <td>5000.0</td>\n",
       "      <td>8000.00</td>\n",
       "      <td>12200.00</td>\n",
       "      <td>35000.00</td>\n",
       "    </tr>\n",
       "    <tr>\n",
       "      <th>loan_int_rate</th>\n",
       "      <td>29453.0</td>\n",
       "      <td>11.011881</td>\n",
       "      <td>3.240596</td>\n",
       "      <td>5.42</td>\n",
       "      <td>7.9</td>\n",
       "      <td>10.99</td>\n",
       "      <td>13.47</td>\n",
       "      <td>23.22</td>\n",
       "    </tr>\n",
       "    <tr>\n",
       "      <th>loan_status</th>\n",
       "      <td>32566.0</td>\n",
       "      <td>0.218234</td>\n",
       "      <td>0.413053</td>\n",
       "      <td>0.00</td>\n",
       "      <td>0.0</td>\n",
       "      <td>0.00</td>\n",
       "      <td>0.00</td>\n",
       "      <td>1.00</td>\n",
       "    </tr>\n",
       "    <tr>\n",
       "      <th>cb_person_cred_hist_length</th>\n",
       "      <td>32566.0</td>\n",
       "      <td>5.799423</td>\n",
       "      <td>4.043217</td>\n",
       "      <td>2.00</td>\n",
       "      <td>3.0</td>\n",
       "      <td>4.00</td>\n",
       "      <td>8.00</td>\n",
       "      <td>30.00</td>\n",
       "    </tr>\n",
       "  </tbody>\n",
       "</table>\n",
       "</div>"
      ],
      "text/plain": [
       "                              count          mean           std      min  \\\n",
       "person_age                  32566.0     27.705859      6.152800    20.00   \n",
       "person_income               32566.0  65880.476386  52537.116859  4000.00   \n",
       "person_emp_length           31671.0      4.780714      4.028718     0.00   \n",
       "loan_amnt                   32566.0   9588.656881   6320.600578   500.00   \n",
       "loan_int_rate               29453.0     11.011881      3.240596     5.42   \n",
       "loan_status                 32566.0      0.218234      0.413053     0.00   \n",
       "cb_person_cred_hist_length  32566.0      5.799423      4.043217     2.00   \n",
       "\n",
       "                                25%       50%       75%         max  \n",
       "person_age                     23.0     26.00     30.00       70.00  \n",
       "person_income               38500.0  55000.00  79200.00  2039784.00  \n",
       "person_emp_length               2.0      4.00      7.00       38.00  \n",
       "loan_amnt                    5000.0   8000.00  12200.00    35000.00  \n",
       "loan_int_rate                   7.9     10.99     13.47       23.22  \n",
       "loan_status                     0.0      0.00      0.00        1.00  \n",
       "cb_person_cred_hist_length      3.0      4.00      8.00       30.00  "
      ]
     },
     "execution_count": 14,
     "metadata": {},
     "output_type": "execute_result"
    }
   ],
   "source": [
    "data.describe(include='number').T"
   ]
  },
  {
   "cell_type": "code",
   "execution_count": 15,
   "id": "78cbaf4f-1fce-4bd5-9dfc-189c5a0981b3",
   "metadata": {},
   "outputs": [],
   "source": [
    "X = data.drop(columns=target).copy()\n",
    "y = data[target].copy()"
   ]
  },
  {
   "cell_type": "markdown",
   "id": "b23e14f2-cf8b-49a1-8ebe-980b4bc92330",
   "metadata": {},
   "source": [
    "# Check for null values"
   ]
  },
  {
   "cell_type": "code",
   "execution_count": 16,
   "id": "e5e4edd8-09c0-4eba-9f9c-0e18fbfff47c",
   "metadata": {},
   "outputs": [
    {
     "data": {
      "text/plain": [
       "person_age                       0\n",
       "person_income                    0\n",
       "person_home_ownership            0\n",
       "person_emp_length              895\n",
       "loan_intent                      0\n",
       "loan_grade                       0\n",
       "loan_amnt                        0\n",
       "loan_int_rate                 3113\n",
       "loan_status                      0\n",
       "cb_person_default_on_file        0\n",
       "cb_person_cred_hist_length       0\n",
       "dtype: int64"
      ]
     },
     "execution_count": 16,
     "metadata": {},
     "output_type": "execute_result"
    }
   ],
   "source": [
    "data.isnull().sum()"
   ]
  },
  {
   "cell_type": "markdown",
   "id": "9093d714-2014-4bb4-8960-dff9b5d82a8b",
   "metadata": {},
   "source": [
    "# Numerical correlation plot"
   ]
  },
  {
   "cell_type": "code",
   "execution_count": 17,
   "id": "feaa73bd-c946-4810-8740-2f44dfd7098b",
   "metadata": {},
   "outputs": [
    {
     "data": {
      "image/png": "[encoded data removed]",
      "text/plain": [
       "<Figure size 720x720 with 2 Axes>"
      ]
     },
     "metadata": {
      "needs_background": "light"
     },
     "output_type": "display_data"
    }
   ],
   "source": [
    "import matplotlib.pyplot as plt\n",
    "import seaborn as sns\n",
    "\n",
    "\n",
    "def plot_correlation(data):\n",
    "    corr = data.corr()\n",
    "    mask = np.triu(np.ones_like(corr, dtype=bool))\n",
    "\n",
    "    fig = plt.figure(figsize=(10, 10))\n",
    "\n",
    "    ax = sns.heatmap(\n",
    "        corr, \n",
    "        mask=mask,\n",
    "        vmin=-1, vmax=1, center=0,\n",
    "        cmap='coolwarm',\n",
    "        square=True,\n",
    "        linewidths=0.3,\n",
    "        annot=True,\n",
    "        fmt=\".2f\",\n",
    "        annot_kws={\"size\": 8},\n",
    "        cbar_kws={\"shrink\": .5}\n",
    "    )\n",
    "\n",
    "    ax.set_xticklabels(\n",
    "        ax.get_xticklabels(),\n",
    "        rotation=45,\n",
    "        horizontalalignment='right'\n",
    "    )\n",
    "\n",
    "    ax.set_title(\"Correlation\", size=14)\n",
    "\n",
    "    plt.show()\n",
    "    \n",
    "plot_correlation(X[num])"
   ]
  },
  {
   "cell_type": "markdown",
   "id": "cf87b63f-299a-466b-a936-a6e771124094",
   "metadata": {},
   "source": [
    "# Split data (stratified)"
   ]
  },
  {
   "cell_type": "code",
   "execution_count": 18,
   "id": "6d138cd7-b424-42ff-9a2d-258cfbabdde3",
   "metadata": {},
   "outputs": [
    {
     "name": "stdout",
     "output_type": "stream",
     "text": [
      "Number of Train : 22796 70.0%\n",
      "Number of Test : 9770 30.0%\n"
     ]
    }
   ],
   "source": [
    "from sklearn.model_selection import train_test_split\n",
    "\n",
    "SEED = 42\n",
    "\n",
    "X_train, X_test, y_train, y_test = train_test_split(X, y, test_size=0.3, stratify=y, random_state=SEED)\n",
    "\n",
    "print(\"Number of Train :\", len(y_train), f\"{round(len(y_train) / len(y) * 100, 2)}%\")\n",
    "print(\"Number of Test :\", len(y_test), f\"{round(len(y_test) / len(y) * 100, 2)}%\")"
   ]
  },
  {
   "cell_type": "code",
   "execution_count": 19,
   "id": "ddb9540b-e7e1-433e-bd15-4c2202ee2699",
   "metadata": {},
   "outputs": [
    {
     "name": "stdout",
     "output_type": "stream",
     "text": [
      "Percentage of target in Train : 0.21824004211265136\n",
      "Percentage of target in Test : 0.21821903787103378\n"
     ]
    }
   ],
   "source": [
    "print(\"Percentage of target in Train :\", np.mean(y_train))\n",
    "print(\"Percentage of target in Test :\", np.mean(y_test))"
   ]
  },
  {
   "cell_type": "markdown",
   "id": "787b0188-8d23-4b75-a984-cb687c8576fa",
   "metadata": {},
   "source": [
    "# Data preprocessing\n",
    "\n",
    "The steps are:\n",
    "1. Impute missing 'person_emp_length' feature with 0\n",
    "2. Impute missing 'loan_int_rate' feature with median\n",
    "3. Create dummy variables for categorical features using one hot encoder\n",
    "4. Convert ordinal category into numbers using ordinal encoder\n",
    "5. Scale the features"
   ]
  },
  {
   "cell_type": "code",
   "execution_count": 20,
   "id": "064a5b9d-1541-43d2-9b57-f4a92921bd59",
   "metadata": {},
   "outputs": [],
   "source": [
    "# get data by types\n",
    "def get_data_by_types(X_train, X_test):\n",
    "    X_train_num, X_train_cat, X_train_cat_ord = X_train[num], X_train[cat], X_train[cat_ord]\n",
    "    X_test_num, X_test_cat, X_test_cat_ord = X_test[num], X_test[cat], X_test[cat_ord]\n",
    "    return X_train_num, X_train_cat, X_train_cat_ord, X_test_num, X_test_cat, X_test_cat_ord"
   ]
  },
  {
   "cell_type": "code",
   "execution_count": 21,
   "id": "37f1f766-b6c3-40d9-8943-c568ed2d785f",
   "metadata": {},
   "outputs": [],
   "source": [
    "X_train_num, X_train_cat, X_train_cat_ord, X_test_num, X_test_cat, X_test_cat_ord = get_data_by_types(X_train, X_test)"
   ]
  },
  {
   "cell_type": "code",
   "execution_count": 22,
   "id": "bf8b21cc-d9eb-4cfb-9e87-85ca9a652fed",
   "metadata": {},
   "outputs": [
    {
     "data": {
      "text/plain": [
       "['person_emp_length', 'loan_int_rate']"
      ]
     },
     "execution_count": 22,
     "metadata": {},
     "output_type": "execute_result"
    }
   ],
   "source": [
    "list_column_nan_data = data[data.columns[data.isnull().any()]].isnull().sum() * 100 / data.shape[0]\n",
    "list_column_nan_data\n",
    "imputed_col = list_column_nan_data.index.tolist()\n",
    "imputed_col"
   ]
  },
  {
   "cell_type": "markdown",
   "id": "dc4f5acc-774c-45dc-86a8-5c60d2252adb",
   "metadata": {},
   "source": [
    "# impute missing \"person_emp_length\" with 0\n",
    "Assuming empty values correspond to people that haven't been employed before"
   ]
  },
  {
   "cell_type": "code",
   "execution_count": 23,
   "id": "d5b71035-4458-4ec0-9f73-9160f5dad1b7",
   "metadata": {},
   "outputs": [
    {
     "data": {
      "text/plain": [
       "SimpleImputer(fill_value=0, strategy='constant')"
      ]
     },
     "execution_count": 23,
     "metadata": {},
     "output_type": "execute_result"
    }
   ],
   "source": [
    "from sklearn.impute import SimpleImputer\n",
    "imp_zero = SimpleImputer(strategy='constant', fill_value = 0)\n",
    "imp_zero.fit(X_train_num[[imputed_col[0]]])"
   ]
  },
  {
   "cell_type": "code",
   "execution_count": 24,
   "id": "6a2b0fe7-0c6d-46b6-ab4e-36405fb37bd6",
   "metadata": {},
   "outputs": [],
   "source": [
    "X_train_num[imputed_col[0]] = imp_zero.transform(X_train_num[[imputed_col[0]]])\n",
    "X_test_num[imputed_col[0]] = imp_zero.transform(X_test_num[[imputed_col[0]]])"
   ]
  },
  {
   "cell_type": "markdown",
   "id": "0767fa0b-1cf2-47b1-af12-b5fb737e85b8",
   "metadata": {},
   "source": [
    "# impute missing \"loan_int_rate\" median"
   ]
  },
  {
   "cell_type": "code",
   "execution_count": 25,
   "id": "08283388-375f-4299-ac27-f2df99303f26",
   "metadata": {},
   "outputs": [
    {
     "data": {
      "text/plain": [
       "SimpleImputer(strategy='median')"
      ]
     },
     "execution_count": 25,
     "metadata": {},
     "output_type": "execute_result"
    }
   ],
   "source": [
    "imp_median = SimpleImputer(strategy='median')\n",
    "imp_median.fit(pd.DataFrame(X_train_num[imputed_col[1]]))"
   ]
  },
  {
   "cell_type": "code",
   "execution_count": 26,
   "id": "77184919-3d85-46b3-b64e-966c89fa9dbf",
   "metadata": {},
   "outputs": [],
   "source": [
    "X_train_num[imputed_col[1]] = imp_median.transform(X_train_num[[imputed_col[1]]])\n",
    "X_test_num[imputed_col[1]] = imp_median.transform(X_test_num[[imputed_col[1]]])"
   ]
  },
  {
   "cell_type": "markdown",
   "id": "152c4e31-931e-4f4a-9596-9702446a2ab5",
   "metadata": {},
   "source": [
    "# imputer - dummy variables"
   ]
  },
  {
   "cell_type": "code",
   "execution_count": 27,
   "id": "401f4815-bd40-422d-8e51-768855c371e7",
   "metadata": {},
   "outputs": [],
   "source": [
    "from sklearn.preprocessing import OneHotEncoder\n",
    "\n",
    "ohe = OneHotEncoder(drop='first')\n",
    "ohe.fit(X_train_cat)\n",
    "\n",
    "X_train_cat = ohe.transform(X_train_cat).toarray()\n",
    "X_test_cat = ohe.transform(X_test_cat).toarray()"
   ]
  },
  {
   "cell_type": "code",
   "execution_count": 28,
   "id": "9d6ce0cb-e833-4612-867f-22832537e50f",
   "metadata": {},
   "outputs": [],
   "source": [
    "X_train_cat = pd.DataFrame(X_train_cat, columns=ohe.get_feature_names(cat), index=X_train.index)\n",
    "X_test_cat = pd.DataFrame(X_test_cat, columns=ohe.get_feature_names(cat), index=X_test.index)"
   ]
  },
  {
   "cell_type": "markdown",
   "id": "c039ab31-05d8-402d-a602-1578ad742d26",
   "metadata": {},
   "source": [
    "# ordinal category conversion"
   ]
  },
  {
   "cell_type": "code",
   "execution_count": 29,
   "id": "046f08d0-1620-4135-8c90-1e143ae024e4",
   "metadata": {},
   "outputs": [],
   "source": [
    "from sklearn.preprocessing import OrdinalEncoder\n",
    "ord_cnv = OrdinalEncoder(dtype=np.int64)\n",
    "ord_cnv.fit(X_train_cat_ord)\n",
    "\n",
    "X_train_cat_ord = ord_cnv.transform(X_train_cat_ord)\n",
    "X_test_cat_ord = ord_cnv.transform(X_test_cat_ord)"
   ]
  },
  {
   "cell_type": "code",
   "execution_count": 30,
   "id": "2062f31e-e155-4dd5-adfb-872c5129ed1d",
   "metadata": {},
   "outputs": [],
   "source": [
    "X_train_cat_ord = pd.DataFrame(X_train_cat_ord, columns=cat_ord, index=X_train.index)\n",
    "X_test_cat_ord = pd.DataFrame(X_test_cat_ord, columns=cat_ord, index=X_test.index)"
   ]
  },
  {
   "cell_type": "markdown",
   "id": "ccff4551-2c71-474c-815a-3e8bf1eebb64",
   "metadata": {},
   "source": [
    "# Standard Scaler"
   ]
  },
  {
   "cell_type": "code",
   "execution_count": 31,
   "id": "dea6954a-dbd6-4cd3-8a53-f24fdce763ec",
   "metadata": {},
   "outputs": [
    {
     "data": {
      "text/plain": [
       "StandardScaler()"
      ]
     },
     "execution_count": 31,
     "metadata": {},
     "output_type": "execute_result"
    }
   ],
   "source": [
    "from sklearn.preprocessing import StandardScaler\n",
    "scaler = StandardScaler()\n",
    "scaler.fit(X_train_num)\n"
   ]
  },
  {
   "cell_type": "code",
   "execution_count": 32,
   "id": "06ccb800-4ecc-45ae-8d23-d14e362947dc",
   "metadata": {},
   "outputs": [
    {
     "data": {
      "text/plain": [
       "array([[-0.59971913, -0.35144468, -0.16286184,  0.8843707 ,  0.14708894,\n",
       "        -0.68991666],\n",
       "       [-0.59971913, -0.21384916,  0.81937204,  1.64343273, -1.33157178,\n",
       "        -0.93775133],\n",
       "       [-0.4374478 ,  1.17783132, -1.14509573,  0.06205349,  0.9915757 ,\n",
       "        -0.44208199],\n",
       "       ...,\n",
       "       [ 1.34753683,  1.5552362 , -0.16286184, -0.72863613, -0.45472921,\n",
       "         2.53193402],\n",
       "       [ 0.21163752,  0.43481547,  1.06493052,  2.43412235,  1.11129221,\n",
       "         1.04492601],\n",
       "       [-0.27517647,  0.27756344,  0.08269663,  2.43412235,  0.83626779,\n",
       "        -0.44208199]])"
      ]
     },
     "execution_count": 32,
     "metadata": {},
     "output_type": "execute_result"
    }
   ],
   "source": [
    "scaler.transform(X_train_num)\n",
    "scaler.transform(X_test_num)"
   ]
  },
  {
   "cell_type": "markdown",
   "id": "51d94971-c20a-47fe-a1fa-ec7857a8d0dd",
   "metadata": {},
   "source": [
    "# Join"
   ]
  },
  {
   "cell_type": "code",
   "execution_count": 33,
   "id": "a17b563e-3ba4-4334-b218-5ad0f964d45b",
   "metadata": {},
   "outputs": [],
   "source": [
    "X_train_trans = X_train_num.join(X_train_cat_ord).join(X_train_cat)\n",
    "X_test_trans = X_test_num.join(X_test_cat_ord).join(X_test_cat)"
   ]
  },
  {
   "cell_type": "code",
   "execution_count": 34,
   "id": "1ae0b4e5-2f4f-475d-a19a-e65f6362765f",
   "metadata": {},
   "outputs": [
    {
     "data": {
      "text/html": [
       "<div>\n",
       "<style scoped>\n",
       "    .dataframe tbody tr th:only-of-type {\n",
       "        vertical-align: middle;\n",
       "    }\n",
       "\n",
       "    .dataframe tbody tr th {\n",
       "        vertical-align: top;\n",
       "    }\n",
       "\n",
       "    .dataframe thead th {\n",
       "        text-align: right;\n",
       "    }\n",
       "</style>\n",
       "<table border=\"1\" class=\"dataframe\">\n",
       "  <thead>\n",
       "    <tr style=\"text-align: right;\">\n",
       "      <th></th>\n",
       "      <th>person_age</th>\n",
       "      <th>person_income</th>\n",
       "      <th>person_emp_length</th>\n",
       "      <th>loan_amnt</th>\n",
       "      <th>loan_int_rate</th>\n",
       "      <th>cb_person_cred_hist_length</th>\n",
       "      <th>loan_grade</th>\n",
       "      <th>person_home_ownership_OTHER</th>\n",
       "      <th>person_home_ownership_OWN</th>\n",
       "      <th>person_home_ownership_RENT</th>\n",
       "      <th>loan_intent_EDUCATION</th>\n",
       "      <th>loan_intent_HOMEIMPROVEMENT</th>\n",
       "      <th>loan_intent_MEDICAL</th>\n",
       "      <th>loan_intent_PERSONAL</th>\n",
       "      <th>loan_intent_VENTURE</th>\n",
       "      <th>cb_person_default_on_file_Y</th>\n",
       "    </tr>\n",
       "  </thead>\n",
       "  <tbody>\n",
       "    <tr>\n",
       "      <th>32115</th>\n",
       "      <td>39</td>\n",
       "      <td>48000</td>\n",
       "      <td>0.0</td>\n",
       "      <td>3000</td>\n",
       "      <td>5.42</td>\n",
       "      <td>16</td>\n",
       "      <td>0</td>\n",
       "      <td>0.0</td>\n",
       "      <td>0.0</td>\n",
       "      <td>0.0</td>\n",
       "      <td>0.0</td>\n",
       "      <td>0.0</td>\n",
       "      <td>1.0</td>\n",
       "      <td>0.0</td>\n",
       "      <td>0.0</td>\n",
       "      <td>0.0</td>\n",
       "    </tr>\n",
       "    <tr>\n",
       "      <th>14821</th>\n",
       "      <td>26</td>\n",
       "      <td>115200</td>\n",
       "      <td>10.0</td>\n",
       "      <td>4500</td>\n",
       "      <td>11.97</td>\n",
       "      <td>2</td>\n",
       "      <td>2</td>\n",
       "      <td>0.0</td>\n",
       "      <td>0.0</td>\n",
       "      <td>0.0</td>\n",
       "      <td>0.0</td>\n",
       "      <td>0.0</td>\n",
       "      <td>0.0</td>\n",
       "      <td>0.0</td>\n",
       "      <td>0.0</td>\n",
       "      <td>1.0</td>\n",
       "    </tr>\n",
       "    <tr>\n",
       "      <th>31721</th>\n",
       "      <td>44</td>\n",
       "      <td>58000</td>\n",
       "      <td>2.0</td>\n",
       "      <td>15000</td>\n",
       "      <td>13.48</td>\n",
       "      <td>15</td>\n",
       "      <td>2</td>\n",
       "      <td>0.0</td>\n",
       "      <td>0.0</td>\n",
       "      <td>1.0</td>\n",
       "      <td>0.0</td>\n",
       "      <td>1.0</td>\n",
       "      <td>0.0</td>\n",
       "      <td>0.0</td>\n",
       "      <td>0.0</td>\n",
       "      <td>1.0</td>\n",
       "    </tr>\n",
       "    <tr>\n",
       "      <th>27333</th>\n",
       "      <td>34</td>\n",
       "      <td>121000</td>\n",
       "      <td>8.0</td>\n",
       "      <td>12000</td>\n",
       "      <td>14.59</td>\n",
       "      <td>8</td>\n",
       "      <td>3</td>\n",
       "      <td>0.0</td>\n",
       "      <td>0.0</td>\n",
       "      <td>0.0</td>\n",
       "      <td>0.0</td>\n",
       "      <td>1.0</td>\n",
       "      <td>0.0</td>\n",
       "      <td>0.0</td>\n",
       "      <td>0.0</td>\n",
       "      <td>1.0</td>\n",
       "    </tr>\n",
       "    <tr>\n",
       "      <th>25587</th>\n",
       "      <td>29</td>\n",
       "      <td>87000</td>\n",
       "      <td>4.0</td>\n",
       "      <td>15000</td>\n",
       "      <td>10.99</td>\n",
       "      <td>5</td>\n",
       "      <td>1</td>\n",
       "      <td>0.0</td>\n",
       "      <td>0.0</td>\n",
       "      <td>0.0</td>\n",
       "      <td>0.0</td>\n",
       "      <td>1.0</td>\n",
       "      <td>0.0</td>\n",
       "      <td>0.0</td>\n",
       "      <td>0.0</td>\n",
       "      <td>0.0</td>\n",
       "    </tr>\n",
       "    <tr>\n",
       "      <th>...</th>\n",
       "      <td>...</td>\n",
       "      <td>...</td>\n",
       "      <td>...</td>\n",
       "      <td>...</td>\n",
       "      <td>...</td>\n",
       "      <td>...</td>\n",
       "      <td>...</td>\n",
       "      <td>...</td>\n",
       "      <td>...</td>\n",
       "      <td>...</td>\n",
       "      <td>...</td>\n",
       "      <td>...</td>\n",
       "      <td>...</td>\n",
       "      <td>...</td>\n",
       "      <td>...</td>\n",
       "      <td>...</td>\n",
       "    </tr>\n",
       "    <tr>\n",
       "      <th>30131</th>\n",
       "      <td>41</td>\n",
       "      <td>47000</td>\n",
       "      <td>5.0</td>\n",
       "      <td>7500</td>\n",
       "      <td>11.12</td>\n",
       "      <td>13</td>\n",
       "      <td>1</td>\n",
       "      <td>0.0</td>\n",
       "      <td>0.0</td>\n",
       "      <td>0.0</td>\n",
       "      <td>1.0</td>\n",
       "      <td>0.0</td>\n",
       "      <td>0.0</td>\n",
       "      <td>0.0</td>\n",
       "      <td>0.0</td>\n",
       "      <td>0.0</td>\n",
       "    </tr>\n",
       "    <tr>\n",
       "      <th>18042</th>\n",
       "      <td>29</td>\n",
       "      <td>192000</td>\n",
       "      <td>6.0</td>\n",
       "      <td>15000</td>\n",
       "      <td>14.27</td>\n",
       "      <td>6</td>\n",
       "      <td>2</td>\n",
       "      <td>0.0</td>\n",
       "      <td>0.0</td>\n",
       "      <td>0.0</td>\n",
       "      <td>0.0</td>\n",
       "      <td>0.0</td>\n",
       "      <td>0.0</td>\n",
       "      <td>0.0</td>\n",
       "      <td>1.0</td>\n",
       "      <td>1.0</td>\n",
       "    </tr>\n",
       "    <tr>\n",
       "      <th>4380</th>\n",
       "      <td>22</td>\n",
       "      <td>40000</td>\n",
       "      <td>1.0</td>\n",
       "      <td>8000</td>\n",
       "      <td>16.00</td>\n",
       "      <td>3</td>\n",
       "      <td>4</td>\n",
       "      <td>0.0</td>\n",
       "      <td>0.0</td>\n",
       "      <td>0.0</td>\n",
       "      <td>0.0</td>\n",
       "      <td>0.0</td>\n",
       "      <td>0.0</td>\n",
       "      <td>1.0</td>\n",
       "      <td>0.0</td>\n",
       "      <td>1.0</td>\n",
       "    </tr>\n",
       "    <tr>\n",
       "      <th>30536</th>\n",
       "      <td>37</td>\n",
       "      <td>780000</td>\n",
       "      <td>9.0</td>\n",
       "      <td>7500</td>\n",
       "      <td>12.18</td>\n",
       "      <td>15</td>\n",
       "      <td>1</td>\n",
       "      <td>0.0</td>\n",
       "      <td>0.0</td>\n",
       "      <td>1.0</td>\n",
       "      <td>0.0</td>\n",
       "      <td>1.0</td>\n",
       "      <td>0.0</td>\n",
       "      <td>0.0</td>\n",
       "      <td>0.0</td>\n",
       "      <td>0.0</td>\n",
       "    </tr>\n",
       "    <tr>\n",
       "      <th>21184</th>\n",
       "      <td>33</td>\n",
       "      <td>85000</td>\n",
       "      <td>11.0</td>\n",
       "      <td>5000</td>\n",
       "      <td>7.90</td>\n",
       "      <td>8</td>\n",
       "      <td>0</td>\n",
       "      <td>0.0</td>\n",
       "      <td>0.0</td>\n",
       "      <td>1.0</td>\n",
       "      <td>1.0</td>\n",
       "      <td>0.0</td>\n",
       "      <td>0.0</td>\n",
       "      <td>0.0</td>\n",
       "      <td>0.0</td>\n",
       "      <td>0.0</td>\n",
       "    </tr>\n",
       "  </tbody>\n",
       "</table>\n",
       "<p>22796 rows × 16 columns</p>\n",
       "</div>"
      ],
      "text/plain": [
       "       person_age  person_income  person_emp_length  loan_amnt  loan_int_rate  \\\n",
       "32115          39          48000                0.0       3000           5.42   \n",
       "14821          26         115200               10.0       4500          11.97   \n",
       "31721          44          58000                2.0      15000          13.48   \n",
       "27333          34         121000                8.0      12000          14.59   \n",
       "25587          29          87000                4.0      15000          10.99   \n",
       "...           ...            ...                ...        ...            ...   \n",
       "30131          41          47000                5.0       7500          11.12   \n",
       "18042          29         192000                6.0      15000          14.27   \n",
       "4380           22          40000                1.0       8000          16.00   \n",
       "30536          37         780000                9.0       7500          12.18   \n",
       "21184          33          85000               11.0       5000           7.90   \n",
       "\n",
       "       cb_person_cred_hist_length  loan_grade  person_home_ownership_OTHER  \\\n",
       "32115                          16           0                          0.0   \n",
       "14821                           2           2                          0.0   \n",
       "31721                          15           2                          0.0   \n",
       "27333                           8           3                          0.0   \n",
       "25587                           5           1                          0.0   \n",
       "...                           ...         ...                          ...   \n",
       "30131                          13           1                          0.0   \n",
       "18042                           6           2                          0.0   \n",
       "4380                            3           4                          0.0   \n",
       "30536                          15           1                          0.0   \n",
       "21184                           8           0                          0.0   \n",
       "\n",
       "       person_home_ownership_OWN  person_home_ownership_RENT  \\\n",
       "32115                        0.0                         0.0   \n",
       "14821                        0.0                         0.0   \n",
       "31721                        0.0                         1.0   \n",
       "27333                        0.0                         0.0   \n",
       "25587                        0.0                         0.0   \n",
       "...                          ...                         ...   \n",
       "30131                        0.0                         0.0   \n",
       "18042                        0.0                         0.0   \n",
       "4380                         0.0                         0.0   \n",
       "30536                        0.0                         1.0   \n",
       "21184                        0.0                         1.0   \n",
       "\n",
       "       loan_intent_EDUCATION  loan_intent_HOMEIMPROVEMENT  \\\n",
       "32115                    0.0                          0.0   \n",
       "14821                    0.0                          0.0   \n",
       "31721                    0.0                          1.0   \n",
       "27333                    0.0                          1.0   \n",
       "25587                    0.0                          1.0   \n",
       "...                      ...                          ...   \n",
       "30131                    1.0                          0.0   \n",
       "18042                    0.0                          0.0   \n",
       "4380                     0.0                          0.0   \n",
       "30536                    0.0                          1.0   \n",
       "21184                    1.0                          0.0   \n",
       "\n",
       "       loan_intent_MEDICAL  loan_intent_PERSONAL  loan_intent_VENTURE  \\\n",
       "32115                  1.0                   0.0                  0.0   \n",
       "14821                  0.0                   0.0                  0.0   \n",
       "31721                  0.0                   0.0                  0.0   \n",
       "27333                  0.0                   0.0                  0.0   \n",
       "25587                  0.0                   0.0                  0.0   \n",
       "...                    ...                   ...                  ...   \n",
       "30131                  0.0                   0.0                  0.0   \n",
       "18042                  0.0                   0.0                  1.0   \n",
       "4380                   0.0                   1.0                  0.0   \n",
       "30536                  0.0                   0.0                  0.0   \n",
       "21184                  0.0                   0.0                  0.0   \n",
       "\n",
       "       cb_person_default_on_file_Y  \n",
       "32115                          0.0  \n",
       "14821                          1.0  \n",
       "31721                          1.0  \n",
       "27333                          1.0  \n",
       "25587                          0.0  \n",
       "...                            ...  \n",
       "30131                          0.0  \n",
       "18042                          1.0  \n",
       "4380                           1.0  \n",
       "30536                          0.0  \n",
       "21184                          0.0  \n",
       "\n",
       "[22796 rows x 16 columns]"
      ]
     },
     "execution_count": 34,
     "metadata": {},
     "output_type": "execute_result"
    }
   ],
   "source": [
    "X_train_trans"
   ]
  },
  {
   "cell_type": "markdown",
   "id": "b1d4e287-ce60-47c5-83df-7a0283cb8f77",
   "metadata": {},
   "source": [
    "One last null values check"
   ]
  },
  {
   "cell_type": "code",
   "execution_count": 35,
   "id": "262c7f98-435a-4b8d-b6e2-120e9f2faced",
   "metadata": {},
   "outputs": [
    {
     "name": "stdout",
     "output_type": "stream",
     "text": [
      "person_age                     0\n",
      "person_income                  0\n",
      "person_emp_length              0\n",
      "loan_amnt                      0\n",
      "loan_int_rate                  0\n",
      "cb_person_cred_hist_length     0\n",
      "loan_grade                     0\n",
      "person_home_ownership_OTHER    0\n",
      "person_home_ownership_OWN      0\n",
      "person_home_ownership_RENT     0\n",
      "loan_intent_EDUCATION          0\n",
      "loan_intent_HOMEIMPROVEMENT    0\n",
      "loan_intent_MEDICAL            0\n",
      "loan_intent_PERSONAL           0\n",
      "loan_intent_VENTURE            0\n",
      "cb_person_default_on_file_Y    0\n",
      "dtype: int64\n",
      "person_age                     0\n",
      "person_income                  0\n",
      "person_emp_length              0\n",
      "loan_amnt                      0\n",
      "loan_int_rate                  0\n",
      "cb_person_cred_hist_length     0\n",
      "loan_grade                     0\n",
      "person_home_ownership_OTHER    0\n",
      "person_home_ownership_OWN      0\n",
      "person_home_ownership_RENT     0\n",
      "loan_intent_EDUCATION          0\n",
      "loan_intent_HOMEIMPROVEMENT    0\n",
      "loan_intent_MEDICAL            0\n",
      "loan_intent_PERSONAL           0\n",
      "loan_intent_VENTURE            0\n",
      "cb_person_default_on_file_Y    0\n",
      "dtype: int64\n"
     ]
    }
   ],
   "source": [
    "print(X_train_trans.isnull().sum())\n",
    "print(X_test_trans.isnull().sum())"
   ]
  },
  {
   "cell_type": "markdown",
   "id": "a232ca72-9d5f-434d-8e3d-2185aea2430a",
   "metadata": {},
   "source": [
    "# Training using XGBoost"
   ]
  },
  {
   "cell_type": "code",
   "execution_count": 36,
   "id": "e9b018ab-2d4c-43af-9660-746d16ab50a8",
   "metadata": {},
   "outputs": [
    {
     "name": "stdout",
     "output_type": "stream",
     "text": [
      "[13:30:51] WARNING: C:/Users/Administrator/workspace/xgboost-win64_release_1.4.0/src/learner.cc:1095: Starting in XGBoost 1.3.0, the default evaluation metric used with the objective 'binary:logistic' was changed from 'error' to 'logloss'. Explicitly set eval_metric if you'd like to restore the old behavior.\n"
     ]
    },
    {
     "data": {
      "text/plain": [
       "XGBClassifier(base_score=0.5, booster='gbtree', colsample_bylevel=1,\n",
       "              colsample_bynode=1, colsample_bytree=1, gamma=5, gpu_id=-1,\n",
       "              importance_type='gain', interaction_constraints='',\n",
       "              learning_rate=0.01, max_delta_step=0, max_depth=10,\n",
       "              min_child_weight=3, missing=nan, monotone_constraints='()',\n",
       "              n_estimators=1000, n_jobs=8, num_parallel_tree=1, random_state=42,\n",
       "              reg_alpha=0, reg_lambda=1, scale_pos_weight=1, subsample=0.5,\n",
       "              tree_method='exact', validate_parameters=1, verbosity=None)"
      ]
     },
     "execution_count": 36,
     "metadata": {},
     "output_type": "execute_result"
    }
   ],
   "source": [
    "xgb_opt =  XGBClassifier(n_estimators = 1000, \n",
    "                         max_depth = 10, \n",
    "                         learning_rate = 0.01,\n",
    "                         gamma = 5, \n",
    "                         min_child_weight = 3, \n",
    "                         subsample = 0.5, \n",
    "                         random_state = SEED)\n",
    "xgb_opt.fit(X_train_trans, y_train)"
   ]
  },
  {
   "cell_type": "code",
   "execution_count": 37,
   "id": "ef17ebba-5fd5-4a5e-882c-a34a0b49b1ee",
   "metadata": {},
   "outputs": [],
   "source": [
    "yhat_train_xgb = xgb_opt.predict_proba(X_train_trans)[:, 1]\n",
    "yhat_test_xgb = xgb_opt.predict_proba(X_test_trans)[:, 1]"
   ]
  },
  {
   "cell_type": "code",
   "execution_count": 38,
   "id": "d33c1cc9-f073-4da7-9738-b7a6953f163f",
   "metadata": {},
   "outputs": [],
   "source": [
    "# https://stackoverflow.com/questions/28719067/roc-curve-and-cut-off-point-python\n",
    "def get_optimal_cutoff(tpr, fpr, thresholds):\n",
    "    i = np.arange(len(tpr)) # index for df\n",
    "    roc = pd.DataFrame({\n",
    "        'fpr' : pd.Series(fpr, index=i),\n",
    "        'tpr' : pd.Series(tpr, index = i), \n",
    "        '1-fpr' : pd.Series(1-fpr, index = i), \n",
    "        'tf' : pd.Series(tpr - (1-fpr), index = i), \n",
    "        'thresholds' : pd.Series(thresholds, index = i)})\n",
    "    \n",
    "    print(roc.iloc[[(roc.tf-0).abs().argmin()]])\n",
    "\n",
    "    # Plot tpr vs 1-fpr\n",
    "    fig, ax = plt.subplots()\n",
    "    _ = plt.plot(roc['tpr'])\n",
    "    _ = plt.plot(roc['1-fpr'], color = 'red')\n",
    "    _ = plt.xlabel('1-False Positive Rate')\n",
    "    _ = plt.ylabel('True Positive Rate')\n",
    "    _ = plt.title('Receiver operating characteristic')\n",
    "    _ = ax.set_xticklabels([])\n",
    "    "
   ]
  },
  {
   "cell_type": "code",
   "execution_count": 39,
   "id": "9b1a79ce-7b1c-4f63-b97b-9a2876e2751d",
   "metadata": {},
   "outputs": [
    {
     "name": "stdout",
     "output_type": "stream",
     "text": [
      "ROC-AUC TRAIN 0.9689386441776244\n",
      "ROC-AUC TEST 0.9399468172124468\n"
     ]
    }
   ],
   "source": [
    "from sklearn.metrics import roc_curve, auc, roc_auc_score, classification_report\n",
    "\n",
    "fpr_train_xgb, tpr_train_xgb, thresholds_train_xgb =roc_curve(y_train, \n",
    "                                                  yhat_train_xgb)\n",
    "fpr_test_xgb, tpr_test_xgb, thresholds_test_xgb =roc_curve(y_test, \n",
    "                                               yhat_test_xgb)\n",
    "\n",
    "roc_auc_train_xgb = auc(fpr_train_xgb, tpr_train_xgb)\n",
    "roc_auc_test_xgb = auc(fpr_test_xgb, tpr_test_xgb)\n",
    "\n",
    "print(\"ROC-AUC TRAIN\", roc_auc_train_xgb)\n",
    "print(\"ROC-AUC TEST\", roc_auc_test_xgb)"
   ]
  },
  {
   "cell_type": "code",
   "execution_count": 40,
   "id": "54e1046c-79ce-4117-b596-8ee8eb9693a5",
   "metadata": {},
   "outputs": [
    {
     "name": "stdout",
     "output_type": "stream",
     "text": [
      "          fpr       tpr     1-fpr        tf  thresholds\n",
      "609  0.139042  0.859287  0.860958 -0.001671    0.145564\n"
     ]
    },
    {
     "data": {
      "image/png": "[encoded data removed]",
      "text/plain": [
       "<Figure size 432x288 with 1 Axes>"
      ]
     },
     "metadata": {
      "needs_background": "light"
     },
     "output_type": "display_data"
    }
   ],
   "source": [
    "tpr = tpr_test_xgb\n",
    "fpr = fpr_test_xgb\n",
    "\n",
    "thresholds = thresholds_test_xgb\n",
    "get_optimal_cutoff(tpr, fpr, thresholds)"
   ]
  },
  {
   "cell_type": "code",
   "execution_count": 41,
   "id": "057c6408-bee1-4892-ac57-6ba04f5c856d",
   "metadata": {},
   "outputs": [
    {
     "name": "stdout",
     "output_type": "stream",
     "text": [
      "              precision    recall  f1-score   support\n",
      "\n",
      "           0       0.92      0.99      0.95      7638\n",
      "           1       0.94      0.71      0.81      2132\n",
      "\n",
      "    accuracy                           0.93      9770\n",
      "   macro avg       0.93      0.85      0.88      9770\n",
      "weighted avg       0.93      0.93      0.92      9770\n",
      "\n"
     ]
    }
   ],
   "source": [
    "threshold = 0.5\n",
    "\n",
    "y_pred_train_xgb = np.where(yhat_train_xgb > threshold, 1, 0)\n",
    "y_pred_test_xgb = np.where(yhat_test_xgb > threshold, 1, 0)\n",
    "\n",
    "print(classification_report(y_test, \n",
    "                            y_pred_test_xgb))"
   ]
  },
  {
   "cell_type": "markdown",
   "id": "754b0af2-8498-44d6-b2f6-9983888313a9",
   "metadata": {},
   "source": [
    "# Training using Logistic Regression + Grid Search CV "
   ]
  },
  {
   "cell_type": "code",
   "execution_count": 42,
   "id": "9da22f6e-caab-4179-aa60-1141ec29c53f",
   "metadata": {},
   "outputs": [],
   "source": [
    "from sklearn.utils.fixes import loguniform\n",
    "from sklearn.linear_model import LogisticRegression  \n",
    "from sklearn.model_selection import GridSearchCV\n",
    "\n",
    "lr =  LogisticRegression(random_state = SEED)\n",
    "\n",
    "param_space = {\n",
    "    \"C\": np.logspace(-4,4,20),\n",
    "    \"penalty\" : ['l1', 'l2'],\n",
    "    \"max_iter\": [100, 500, 1000],\n",
    "    \"random_state\": [SEED]\n",
    "}\n",
    "\n",
    "clf = GridSearchCV(lr, \n",
    "                   param_space, \n",
    "                   scoring='roc_auc', \n",
    "                   cv=4, \n",
    "                   refit=True)"
   ]
  },
  {
   "cell_type": "code",
   "execution_count": 43,
   "id": "6114758f-ed52-4f52-a041-befedc59d00f",
   "metadata": {},
   "outputs": [
    {
     "data": {
      "text/plain": [
       "GridSearchCV(cv=4, estimator=LogisticRegression(random_state=42),\n",
       "             param_grid={'C': array([1.00000000e-04, 2.63665090e-04, 6.95192796e-04, 1.83298071e-03,\n",
       "       4.83293024e-03, 1.27427499e-02, 3.35981829e-02, 8.85866790e-02,\n",
       "       2.33572147e-01, 6.15848211e-01, 1.62377674e+00, 4.28133240e+00,\n",
       "       1.12883789e+01, 2.97635144e+01, 7.84759970e+01, 2.06913808e+02,\n",
       "       5.45559478e+02, 1.43844989e+03, 3.79269019e+03, 1.00000000e+04]),\n",
       "                         'max_iter': [100, 500, 1000], 'penalty': ['l1', 'l2'],\n",
       "                         'random_state': [42]},\n",
       "             scoring='roc_auc')"
      ]
     },
     "execution_count": 43,
     "metadata": {},
     "output_type": "execute_result"
    }
   ],
   "source": [
    "clf.fit(X_train_trans, y_train)"
   ]
  },
  {
   "cell_type": "code",
   "execution_count": 44,
   "id": "be5258b9-daae-486a-8a0b-5322e336e13c",
   "metadata": {},
   "outputs": [
    {
     "data": {
      "text/plain": [
       "LogisticRegression(C=0.0001, random_state=42)"
      ]
     },
     "execution_count": 44,
     "metadata": {},
     "output_type": "execute_result"
    }
   ],
   "source": [
    "clf.best_estimator_"
   ]
  },
  {
   "cell_type": "code",
   "execution_count": 45,
   "id": "8f79a9e3-9c05-47fd-ac42-fa7e8f2659a6",
   "metadata": {},
   "outputs": [],
   "source": [
    "yhat_train_lr = clf.predict_proba(X_train_trans)[:, 1]\n",
    "yhat_test_lr = clf.predict_proba(X_test_trans)[:, 1]"
   ]
  },
  {
   "cell_type": "code",
   "execution_count": 46,
   "id": "2d9fc7ab-1820-4e1c-b487-e7b9216d0bee",
   "metadata": {
    "tags": []
   },
   "outputs": [
    {
     "name": "stdout",
     "output_type": "stream",
     "text": [
      "ROC-AUC TRAIN 0.7615361584308953\n",
      "ROC-AUC TEST 0.7608302419962988\n"
     ]
    }
   ],
   "source": [
    "from sklearn.metrics import roc_curve, auc, roc_auc_score, classification_report\n",
    "\n",
    "fpr_train_lr, tpr_train_lr, thresholds_train_lr =roc_curve(y_train, \n",
    "                                                  yhat_train_lr)\n",
    "fpr_test_lr, tpr_test_lr, thresholds_test_lr =roc_curve(y_test, \n",
    "                                               yhat_test_lr)\n",
    "\n",
    "roc_auc_train_lr = auc(fpr_train_lr, tpr_train_lr)\n",
    "roc_auc_test_lr = auc(fpr_test_lr, tpr_test_lr)\n",
    "\n",
    "print(\"ROC-AUC TRAIN\", roc_auc_train_lr)\n",
    "print(\"ROC-AUC TEST\", roc_auc_test_lr)"
   ]
  },
  {
   "cell_type": "code",
   "execution_count": 47,
   "id": "8db4e84a-08b7-4aaf-9253-0c950d24088a",
   "metadata": {},
   "outputs": [
    {
     "name": "stdout",
     "output_type": "stream",
     "text": [
      "           fpr       tpr     1-fpr        tf  thresholds\n",
      "1206  0.316575  0.683396  0.683425 -0.000029    0.268806\n"
     ]
    },
    {
     "data": {
      "image/png": "[encoded data removed]",
      "text/plain": [
       "<Figure size 432x288 with 1 Axes>"
      ]
     },
     "metadata": {
      "needs_background": "light"
     },
     "output_type": "display_data"
    }
   ],
   "source": [
    "tpr = tpr_test_lr\n",
    "fpr = fpr_test_lr\n",
    "\n",
    "thresholds = thresholds_test_lr\n",
    "get_optimal_cutoff(tpr, fpr, thresholds)"
   ]
  },
  {
   "cell_type": "code",
   "execution_count": 48,
   "id": "1c7ec9ed-5d94-421e-83f9-aaa66b297fd0",
   "metadata": {},
   "outputs": [
    {
     "name": "stdout",
     "output_type": "stream",
     "text": [
      "              precision    recall  f1-score   support\n",
      "\n",
      "           0       0.81      0.98      0.89      7638\n",
      "           1       0.73      0.15      0.25      2132\n",
      "\n",
      "    accuracy                           0.80      9770\n",
      "   macro avg       0.77      0.57      0.57      9770\n",
      "weighted avg       0.79      0.80      0.75      9770\n",
      "\n"
     ]
    }
   ],
   "source": [
    "threshold = 0.5\n",
    "\n",
    "y_pred_train_lr = np.where(yhat_train_lr > threshold, 1, 0)\n",
    "y_pred_test_lr = np.where(yhat_test_lr > threshold, 1, 0)\n",
    "\n",
    "print(classification_report(y_test, \n",
    "                            y_pred_test_lr))"
   ]
  },
  {
   "cell_type": "markdown",
   "id": "9407a227-631f-4e49-8ed3-81f61cbb34dd",
   "metadata": {},
   "source": [
    "# Decision\n",
    "For this model, it is more acceptable to classify someone as default (1) where in fact it is not than classify someone as non-default (0) where in fact the person is default. This means false positive is more acceptable than false negative. It is also better to choose model with higher ROC-AUC as higher means the model can classify better.\n",
    "\n",
    "From both classification report, we can see that **LR+Grid search is inferior in almost every levels to XGBoost**. LR+Grid search even only has 15% recall for 1 category. So, without much of a doubt, **XGBoost** is the best model candidate here."
   ]
  },
  {
   "cell_type": "markdown",
   "id": "88bf4acf-9ec8-4e0e-8a3a-7bcff381069d",
   "metadata": {},
   "source": [
    "# Full Pipeline with XGBoost"
   ]
  },
  {
   "cell_type": "code",
   "execution_count": 49,
   "id": "8e368271-18f2-48a2-93a2-7d855e8ff0fe",
   "metadata": {},
   "outputs": [
    {
     "data": {
      "text/plain": [
       "['person_emp_length', 'loan_int_rate']"
      ]
     },
     "execution_count": 49,
     "metadata": {},
     "output_type": "execute_result"
    }
   ],
   "source": [
    "list_column_nan_data = data[data.columns[data.isnull().any()]].isnull().sum() * 100 / data.shape[0]\n",
    "list_column_nan_data\n",
    "imputed_col = list_column_nan_data.index.tolist()\n",
    "imputed_col"
   ]
  },
  {
   "cell_type": "code",
   "execution_count": 50,
   "id": "2236a05a-6d6c-4875-9f81-b918c3ab331e",
   "metadata": {},
   "outputs": [],
   "source": [
    "from sklearn.compose import ColumnTransformer\n",
    "from sklearn.pipeline import Pipeline\n",
    "from sklearn.preprocessing import StandardScaler\n",
    "\n",
    "impute_zero_pipe = Pipeline(steps=[\n",
    "    ('imputer_zero', SimpleImputer(strategy='constant', fill_value = 0)),\n",
    "    ('scaler', StandardScaler()),\n",
    "])\n",
    "\n",
    "impute_median_pipe = Pipeline(steps=[\n",
    "    ('imputer_median', SimpleImputer(strategy='median')),\n",
    "    ('scaler', StandardScaler())\n",
    "])\n",
    "\n",
    "cat_pipe = Pipeline(steps=[\n",
    "    ('ohe', OneHotEncoder(drop=\"first\"))\n",
    "])\n",
    "\n",
    "cat_ord_pipe = Pipeline(steps=[\n",
    "    ('ordinal_encoder', OrdinalEncoder(dtype=np.int64))\n",
    "])\n",
    "\n",
    "num_pipe = Pipeline(steps=[\n",
    "    ('scaler', StandardScaler())\n",
    "])\n"
   ]
  },
  {
   "cell_type": "code",
   "execution_count": 51,
   "id": "910aa417-2c2c-420d-a09d-10bb5e66798e",
   "metadata": {},
   "outputs": [
    {
     "data": {
      "text/html": [
       "<div>\n",
       "<style scoped>\n",
       "    .dataframe tbody tr th:only-of-type {\n",
       "        vertical-align: middle;\n",
       "    }\n",
       "\n",
       "    .dataframe tbody tr th {\n",
       "        vertical-align: top;\n",
       "    }\n",
       "\n",
       "    .dataframe thead th {\n",
       "        text-align: right;\n",
       "    }\n",
       "</style>\n",
       "<table border=\"1\" class=\"dataframe\">\n",
       "  <thead>\n",
       "    <tr style=\"text-align: right;\">\n",
       "      <th></th>\n",
       "      <th>person_age</th>\n",
       "      <th>person_income</th>\n",
       "      <th>person_home_ownership</th>\n",
       "      <th>person_emp_length</th>\n",
       "      <th>loan_intent</th>\n",
       "      <th>loan_grade</th>\n",
       "      <th>loan_amnt</th>\n",
       "      <th>loan_int_rate</th>\n",
       "      <th>cb_person_default_on_file</th>\n",
       "      <th>cb_person_cred_hist_length</th>\n",
       "    </tr>\n",
       "  </thead>\n",
       "  <tbody>\n",
       "    <tr>\n",
       "      <th>32115</th>\n",
       "      <td>39</td>\n",
       "      <td>48000</td>\n",
       "      <td>MORTGAGE</td>\n",
       "      <td>NaN</td>\n",
       "      <td>MEDICAL</td>\n",
       "      <td>A</td>\n",
       "      <td>3000</td>\n",
       "      <td>5.42</td>\n",
       "      <td>N</td>\n",
       "      <td>16</td>\n",
       "    </tr>\n",
       "    <tr>\n",
       "      <th>14821</th>\n",
       "      <td>26</td>\n",
       "      <td>115200</td>\n",
       "      <td>MORTGAGE</td>\n",
       "      <td>10.0</td>\n",
       "      <td>DEBTCONSOLIDATION</td>\n",
       "      <td>C</td>\n",
       "      <td>4500</td>\n",
       "      <td>11.97</td>\n",
       "      <td>Y</td>\n",
       "      <td>2</td>\n",
       "    </tr>\n",
       "    <tr>\n",
       "      <th>31721</th>\n",
       "      <td>44</td>\n",
       "      <td>58000</td>\n",
       "      <td>RENT</td>\n",
       "      <td>2.0</td>\n",
       "      <td>HOMEIMPROVEMENT</td>\n",
       "      <td>C</td>\n",
       "      <td>15000</td>\n",
       "      <td>13.48</td>\n",
       "      <td>Y</td>\n",
       "      <td>15</td>\n",
       "    </tr>\n",
       "    <tr>\n",
       "      <th>27333</th>\n",
       "      <td>34</td>\n",
       "      <td>121000</td>\n",
       "      <td>MORTGAGE</td>\n",
       "      <td>8.0</td>\n",
       "      <td>HOMEIMPROVEMENT</td>\n",
       "      <td>D</td>\n",
       "      <td>12000</td>\n",
       "      <td>14.59</td>\n",
       "      <td>Y</td>\n",
       "      <td>8</td>\n",
       "    </tr>\n",
       "    <tr>\n",
       "      <th>25587</th>\n",
       "      <td>29</td>\n",
       "      <td>87000</td>\n",
       "      <td>MORTGAGE</td>\n",
       "      <td>4.0</td>\n",
       "      <td>HOMEIMPROVEMENT</td>\n",
       "      <td>B</td>\n",
       "      <td>15000</td>\n",
       "      <td>10.99</td>\n",
       "      <td>N</td>\n",
       "      <td>5</td>\n",
       "    </tr>\n",
       "    <tr>\n",
       "      <th>...</th>\n",
       "      <td>...</td>\n",
       "      <td>...</td>\n",
       "      <td>...</td>\n",
       "      <td>...</td>\n",
       "      <td>...</td>\n",
       "      <td>...</td>\n",
       "      <td>...</td>\n",
       "      <td>...</td>\n",
       "      <td>...</td>\n",
       "      <td>...</td>\n",
       "    </tr>\n",
       "    <tr>\n",
       "      <th>30131</th>\n",
       "      <td>41</td>\n",
       "      <td>47000</td>\n",
       "      <td>MORTGAGE</td>\n",
       "      <td>5.0</td>\n",
       "      <td>EDUCATION</td>\n",
       "      <td>B</td>\n",
       "      <td>7500</td>\n",
       "      <td>11.12</td>\n",
       "      <td>N</td>\n",
       "      <td>13</td>\n",
       "    </tr>\n",
       "    <tr>\n",
       "      <th>18042</th>\n",
       "      <td>29</td>\n",
       "      <td>192000</td>\n",
       "      <td>MORTGAGE</td>\n",
       "      <td>6.0</td>\n",
       "      <td>VENTURE</td>\n",
       "      <td>C</td>\n",
       "      <td>15000</td>\n",
       "      <td>14.27</td>\n",
       "      <td>Y</td>\n",
       "      <td>6</td>\n",
       "    </tr>\n",
       "    <tr>\n",
       "      <th>4380</th>\n",
       "      <td>22</td>\n",
       "      <td>40000</td>\n",
       "      <td>MORTGAGE</td>\n",
       "      <td>1.0</td>\n",
       "      <td>PERSONAL</td>\n",
       "      <td>E</td>\n",
       "      <td>8000</td>\n",
       "      <td>16.00</td>\n",
       "      <td>Y</td>\n",
       "      <td>3</td>\n",
       "    </tr>\n",
       "    <tr>\n",
       "      <th>30536</th>\n",
       "      <td>37</td>\n",
       "      <td>780000</td>\n",
       "      <td>RENT</td>\n",
       "      <td>9.0</td>\n",
       "      <td>HOMEIMPROVEMENT</td>\n",
       "      <td>B</td>\n",
       "      <td>7500</td>\n",
       "      <td>12.18</td>\n",
       "      <td>N</td>\n",
       "      <td>15</td>\n",
       "    </tr>\n",
       "    <tr>\n",
       "      <th>21184</th>\n",
       "      <td>33</td>\n",
       "      <td>85000</td>\n",
       "      <td>RENT</td>\n",
       "      <td>11.0</td>\n",
       "      <td>EDUCATION</td>\n",
       "      <td>A</td>\n",
       "      <td>5000</td>\n",
       "      <td>7.90</td>\n",
       "      <td>N</td>\n",
       "      <td>8</td>\n",
       "    </tr>\n",
       "  </tbody>\n",
       "</table>\n",
       "<p>22796 rows × 10 columns</p>\n",
       "</div>"
      ],
      "text/plain": [
       "       person_age  person_income person_home_ownership  person_emp_length  \\\n",
       "32115          39          48000              MORTGAGE                NaN   \n",
       "14821          26         115200              MORTGAGE               10.0   \n",
       "31721          44          58000                  RENT                2.0   \n",
       "27333          34         121000              MORTGAGE                8.0   \n",
       "25587          29          87000              MORTGAGE                4.0   \n",
       "...           ...            ...                   ...                ...   \n",
       "30131          41          47000              MORTGAGE                5.0   \n",
       "18042          29         192000              MORTGAGE                6.0   \n",
       "4380           22          40000              MORTGAGE                1.0   \n",
       "30536          37         780000                  RENT                9.0   \n",
       "21184          33          85000                  RENT               11.0   \n",
       "\n",
       "             loan_intent loan_grade  loan_amnt  loan_int_rate  \\\n",
       "32115            MEDICAL          A       3000           5.42   \n",
       "14821  DEBTCONSOLIDATION          C       4500          11.97   \n",
       "31721    HOMEIMPROVEMENT          C      15000          13.48   \n",
       "27333    HOMEIMPROVEMENT          D      12000          14.59   \n",
       "25587    HOMEIMPROVEMENT          B      15000          10.99   \n",
       "...                  ...        ...        ...            ...   \n",
       "30131          EDUCATION          B       7500          11.12   \n",
       "18042            VENTURE          C      15000          14.27   \n",
       "4380            PERSONAL          E       8000          16.00   \n",
       "30536    HOMEIMPROVEMENT          B       7500          12.18   \n",
       "21184          EDUCATION          A       5000           7.90   \n",
       "\n",
       "      cb_person_default_on_file  cb_person_cred_hist_length  \n",
       "32115                         N                          16  \n",
       "14821                         Y                           2  \n",
       "31721                         Y                          15  \n",
       "27333                         Y                           8  \n",
       "25587                         N                           5  \n",
       "...                         ...                         ...  \n",
       "30131                         N                          13  \n",
       "18042                         Y                           6  \n",
       "4380                          Y                           3  \n",
       "30536                         N                          15  \n",
       "21184                         N                           8  \n",
       "\n",
       "[22796 rows x 10 columns]"
      ]
     },
     "execution_count": 51,
     "metadata": {},
     "output_type": "execute_result"
    }
   ],
   "source": [
    "X_train"
   ]
  },
  {
   "cell_type": "code",
   "execution_count": 52,
   "id": "0fb64cf7-c10e-4a87-967e-74731ed98620",
   "metadata": {},
   "outputs": [
    {
     "data": {
      "text/plain": [
       "['person_age', 'person_income', 'loan_amnt', 'cb_person_cred_hist_length']"
      ]
     },
     "execution_count": 52,
     "metadata": {},
     "output_type": "execute_result"
    }
   ],
   "source": [
    "num_no_impute = [x for x in num if x not in imputed_col]\n",
    "num_no_impute"
   ]
  },
  {
   "cell_type": "code",
   "execution_count": 53,
   "id": "aa9557e8-6e7d-4472-8c48-b70b7176c0a9",
   "metadata": {},
   "outputs": [
    {
     "name": "stdout",
     "output_type": "stream",
     "text": [
      "['person_home_ownership', 'loan_intent', 'cb_person_default_on_file']\n",
      "['loan_grade']\n",
      "['person_emp_length', 'loan_int_rate']\n",
      "['person_age', 'person_income', 'person_emp_length', 'loan_amnt', 'loan_int_rate', 'cb_person_cred_hist_length']\n",
      "['person_age', 'person_income', 'loan_amnt', 'cb_person_cred_hist_length']\n"
     ]
    }
   ],
   "source": [
    "print(cat)\n",
    "print(cat_ord)\n",
    "print(imputed_col)\n",
    "print(num)\n",
    "print(num_no_impute)"
   ]
  },
  {
   "cell_type": "code",
   "execution_count": 54,
   "id": "8b9bfd86-7056-4870-92af-6af94d2f52fc",
   "metadata": {},
   "outputs": [],
   "source": [
    "preprocess = ColumnTransformer(transformers=[\n",
    "    ('cat', cat_pipe, cat),\n",
    "    ('cat_ord', cat_ord_pipe, cat_ord),\n",
    "    ('impute_zero', impute_zero_pipe, [imputed_col[0]]),\n",
    "    ('impute_median', impute_median_pipe, [imputed_col[1]]),\n",
    "    ('num', num_pipe, num_no_impute)\n",
    "], remainder='passthrough')\n"
   ]
  },
  {
   "cell_type": "code",
   "execution_count": 55,
   "id": "891f32f1-32e5-424e-9dfe-7ab457889300",
   "metadata": {},
   "outputs": [],
   "source": [
    "xgb_opt =  XGBClassifier(n_estimators = 1000, \n",
    "                         max_depth = 10, \n",
    "                         learning_rate = 0.01,\n",
    "                         gamma = 5, \n",
    "                         min_child_weight = 3, \n",
    "                         subsample = 0.5, \n",
    "                         random_state = SEED)\n",
    "\n",
    "full_pipe = Pipeline(steps=[\n",
    "    ('preprocess', preprocess),\n",
    "    ('model', xgb_opt)\n",
    "])"
   ]
  },
  {
   "cell_type": "code",
   "execution_count": 56,
   "id": "142d8c6c-253d-49a2-beb2-12205d45fb28",
   "metadata": {},
   "outputs": [
    {
     "name": "stdout",
     "output_type": "stream",
     "text": [
      "[13:31:58] WARNING: C:/Users/Administrator/workspace/xgboost-win64_release_1.4.0/src/learner.cc:1095: Starting in XGBoost 1.3.0, the default evaluation metric used with the objective 'binary:logistic' was changed from 'error' to 'logloss'. Explicitly set eval_metric if you'd like to restore the old behavior.\n"
     ]
    },
    {
     "data": {
      "text/plain": [
       "Pipeline(steps=[('preprocess',\n",
       "                 ColumnTransformer(remainder='passthrough',\n",
       "                                   transformers=[('cat',\n",
       "                                                  Pipeline(steps=[('ohe',\n",
       "                                                                   OneHotEncoder(drop='first'))]),\n",
       "                                                  ['person_home_ownership',\n",
       "                                                   'loan_intent',\n",
       "                                                   'cb_person_default_on_file']),\n",
       "                                                 ('cat_ord',\n",
       "                                                  Pipeline(steps=[('ordinal_encoder',\n",
       "                                                                   OrdinalEncoder(dtype=<class 'numpy.int64'>))]),\n",
       "                                                  ['loan_grade']),\n",
       "                                                 ('impute_zero',\n",
       "                                                  Pipeline(st...\n",
       "                               colsample_bytree=1, gamma=5, gpu_id=-1,\n",
       "                               importance_type='gain',\n",
       "                               interaction_constraints='', learning_rate=0.01,\n",
       "                               max_delta_step=0, max_depth=10,\n",
       "                               min_child_weight=3, missing=nan,\n",
       "                               monotone_constraints='()', n_estimators=1000,\n",
       "                               n_jobs=8, num_parallel_tree=1, random_state=42,\n",
       "                               reg_alpha=0, reg_lambda=1, scale_pos_weight=1,\n",
       "                               subsample=0.5, tree_method='exact',\n",
       "                               validate_parameters=1, verbosity=None))])"
      ]
     },
     "execution_count": 56,
     "metadata": {},
     "output_type": "execute_result"
    }
   ],
   "source": [
    "full_pipe.fit(X_train, y_train)"
   ]
  },
  {
   "cell_type": "code",
   "execution_count": 57,
   "id": "91748f09-0838-4bf2-9c9a-228e0e964fb4",
   "metadata": {},
   "outputs": [],
   "source": [
    "yhat_train = full_pipe.predict_proba(X_train)[:, 1]\n",
    "yhat_test = full_pipe.predict_proba(X_test)[:, 1]"
   ]
  },
  {
   "cell_type": "code",
   "execution_count": 58,
   "id": "d6903f78-5c5e-4843-a41a-3e9c4babd6a4",
   "metadata": {},
   "outputs": [
    {
     "name": "stdout",
     "output_type": "stream",
     "text": [
      "ROC-AUC TRAIN 0.9688756334277865\n",
      "ROC-AUC TEST 0.9400372114936328\n"
     ]
    }
   ],
   "source": [
    "from sklearn.metrics import roc_curve, auc, roc_auc_score, classification_report\n",
    "\n",
    "fpr_train, tpr_train, thresholds_train =roc_curve(y_train, \n",
    "                                                  yhat_train)\n",
    "fpr_test, tpr_test, thresholds_test =roc_curve(y_test, \n",
    "                                               yhat_test)\n",
    "\n",
    "roc_auc_train = auc(fpr_train, tpr_train)\n",
    "roc_auc_test = auc(fpr_test, tpr_test)\n",
    "\n",
    "print(\"ROC-AUC TRAIN\", roc_auc_train)\n",
    "print(\"ROC-AUC TEST\", roc_auc_test)"
   ]
  },
  {
   "cell_type": "code",
   "execution_count": 59,
   "id": "9c345770-62f0-47c8-92bc-e8698a3128ac",
   "metadata": {},
   "outputs": [
    {
     "name": "stdout",
     "output_type": "stream",
     "text": [
      "          fpr       tpr     1-fpr        tf  thresholds\n",
      "582  0.139827  0.860225  0.860173  0.000052    0.146146\n"
     ]
    },
    {
     "data": {
      "image/png": "[encoded data removed]",
      "text/plain": [
       "<Figure size 432x288 with 1 Axes>"
      ]
     },
     "metadata": {
      "needs_background": "light"
     },
     "output_type": "display_data"
    }
   ],
   "source": [
    "tpr = tpr_test\n",
    "fpr = fpr_test\n",
    "\n",
    "thresholds = thresholds_test\n",
    "get_optimal_cutoff(tpr, fpr, thresholds)"
   ]
  },
  {
   "cell_type": "code",
   "execution_count": 60,
   "id": "44e2d67e-5c12-4251-9c59-65c95bb78291",
   "metadata": {},
   "outputs": [
    {
     "data": {
      "text/plain": [
       "array([1.9983675e+00, 9.9836749e-01, 9.9099934e-01, ..., 6.2965187e-03,\n",
       "       6.2939269e-03, 1.6429535e-03], dtype=float32)"
      ]
     },
     "execution_count": 60,
     "metadata": {},
     "output_type": "execute_result"
    }
   ],
   "source": [
    "thresholds_test"
   ]
  },
  {
   "cell_type": "code",
   "execution_count": 61,
   "id": "79331f27-14c4-4293-b223-fd358bf4af9d",
   "metadata": {},
   "outputs": [
    {
     "name": "stdout",
     "output_type": "stream",
     "text": [
      "              precision    recall  f1-score   support\n",
      "\n",
      "           0       0.92      0.99      0.95      7638\n",
      "           1       0.94      0.71      0.81      2132\n",
      "\n",
      "    accuracy                           0.93      9770\n",
      "   macro avg       0.93      0.85      0.88      9770\n",
      "weighted avg       0.93      0.93      0.92      9770\n",
      "\n"
     ]
    }
   ],
   "source": [
    "threshold = 0.5\n",
    "\n",
    "y_pred_train = np.where(yhat_train > threshold, 1, 0)\n",
    "y_pred_test = np.where(yhat_test> threshold, 1, 0)\n",
    "\n",
    "print(classification_report(y_test, \n",
    "                            y_pred_test))"
   ]
  },
  {
   "cell_type": "markdown",
   "id": "c3f06836-7485-454f-9b62-51b2316864fd",
   "metadata": {},
   "source": [
    "# Save the model"
   ]
  },
  {
   "cell_type": "code",
   "execution_count": 62,
   "id": "6eb235af-a595-41a7-8e1c-695803dee2d3",
   "metadata": {},
   "outputs": [],
   "source": [
    "import pickle\n",
    "\n",
    "MODELNAME = 'MODEL-XGB-1.0.0.pkl'\n",
    "PREPROCESSNAME = 'PREPROCESS-OHE-OE-IMP-SC-1.0.0.pkl'\n",
    "\n",
    "final_model = full_pipe.named_steps['model']\n",
    "final_pipe = full_pipe.named_steps['preprocess']\n",
    "\n",
    "with open(MODELNAME, 'wb') as f: # save model\n",
    "    pickle.dump(final_model, f)\n",
    "    \n",
    "with open(PREPROCESSNAME, 'wb') as f: # save pipeline\n",
    "    pickle.dump(final_pipe, f)"
   ]
  },
  {
   "cell_type": "code",
   "execution_count": null,
   "id": "74cf5cde-6c7d-47d4-8336-692766068d59",
   "metadata": {},
   "outputs": [],
   "source": []
  }
 ],
 "metadata": {
  "kernelspec": {
   "display_name": ".venv",
   "language": "python",
   "name": ".venv"
  },
  "language_info": {
   "codemirror_mode": {
    "name": "ipython",
    "version": 3
   },
   "file_extension": ".py",
   "mimetype": "text/x-python",
   "name": "python",
   "nbconvert_exporter": "python",
   "pygments_lexer": "ipython3",
   "version": "3.9.6"
  }
 },
 "nbformat": 4,
 "nbformat_minor": 5
}
